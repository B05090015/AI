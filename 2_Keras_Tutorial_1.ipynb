{
  "nbformat": 4,
  "nbformat_minor": 0,
  "metadata": {
    "colab": {
      "name": "2_Keras_Tutorial_1.ipynb",
      "provenance": [],
      "collapsed_sections": []
    },
    "kernelspec": {
      "name": "python3",
      "display_name": "Python 3"
    }
  },
  "cells": [
    {
      "cell_type": "code",
      "metadata": {
        "id": "8N5eFYh2wfHw",
        "colab_type": "code",
        "colab": {
          "base_uri": "https://localhost:8080/",
          "height": 493
        },
        "outputId": "fe6bedb1-ecc3-4904-a0fc-8ccd1ab2a701"
      },
      "source": [
        "import keras\n",
        "from keras.models import Sequential\n",
        "from keras.layers import Dense\n",
        "\n",
        "import numpy as np\n",
        "data = np.random.random((1000, 10)) #隨機產生1000筆資料，每筆資料1包含十個float數字\n",
        "labels = np.random.randint(2, size=(1000, 1)) #隨機產生1000筆資料，每筆資料上限為2(意思就是0 或 1)\n",
        "#顯示data形狀\n",
        "print(np.shape(data))\n",
        "print(data[0])\n",
        "print(np.shape(labels))\n",
        "print(labels[0])\n",
        "\n",
        "model = Sequential()\n",
        "model.add(Dense(32, activation='relu', input_dim=10))\n",
        "model.add(Dense(1, activation='sigmoid'))\n",
        "model.compile(optimizer='rmsprop', loss='binary_crossentropy', metrics=['accuracy'])\n",
        "\n",
        "model.fit(data, labels, epochs=10, batch_size=32)\n",
        "\n",
        "score=model.evaluate(data, labels)\n",
        "print(score[1])\n"
      ],
      "execution_count": 1,
      "outputs": [
        {
          "output_type": "stream",
          "text": [
            "Using TensorFlow backend.\n"
          ],
          "name": "stderr"
        },
        {
          "output_type": "stream",
          "text": [
            "(1000, 10)\n",
            "[0.88723885 0.3841679  0.14079907 0.06666763 0.30776529 0.03537653\n",
            " 0.27958063 0.82284411 0.46346244 0.32094918]\n",
            "(1000, 1)\n",
            "[1]\n",
            "Epoch 1/10\n",
            "1000/1000 [==============================] - 0s 252us/step - loss: 0.6989 - accuracy: 0.4760\n",
            "Epoch 2/10\n",
            "1000/1000 [==============================] - 0s 33us/step - loss: 0.6967 - accuracy: 0.4800\n",
            "Epoch 3/10\n",
            "1000/1000 [==============================] - 0s 32us/step - loss: 0.6953 - accuracy: 0.4940\n",
            "Epoch 4/10\n",
            "1000/1000 [==============================] - 0s 33us/step - loss: 0.6936 - accuracy: 0.5220\n",
            "Epoch 5/10\n",
            "1000/1000 [==============================] - 0s 34us/step - loss: 0.6928 - accuracy: 0.4880\n",
            "Epoch 6/10\n",
            "1000/1000 [==============================] - 0s 34us/step - loss: 0.6920 - accuracy: 0.5090\n",
            "Epoch 7/10\n",
            "1000/1000 [==============================] - 0s 33us/step - loss: 0.6910 - accuracy: 0.5180\n",
            "Epoch 8/10\n",
            "1000/1000 [==============================] - 0s 33us/step - loss: 0.6906 - accuracy: 0.5320\n",
            "Epoch 9/10\n",
            "1000/1000 [==============================] - 0s 33us/step - loss: 0.6902 - accuracy: 0.5340\n",
            "Epoch 10/10\n",
            "1000/1000 [==============================] - 0s 34us/step - loss: 0.6898 - accuracy: 0.5470\n",
            "1000/1000 [==============================] - 0s 34us/step\n",
            "0.5429999828338623\n"
          ],
          "name": "stdout"
        }
      ]
    }
  ]
}