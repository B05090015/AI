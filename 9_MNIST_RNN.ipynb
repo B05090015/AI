{
  "nbformat": 4,
  "nbformat_minor": 0,
  "metadata": {
    "colab": {
      "name": "9.MNIST_RNN.ipynb",
      "provenance": []
    },
    "kernelspec": {
      "name": "python3",
      "display_name": "Python 3"
    },
    "accelerator": "GPU"
  },
  "cells": [
    {
      "cell_type": "code",
      "metadata": {
        "id": "gJGGEhawWhip",
        "colab_type": "code",
        "colab": {
          "base_uri": "https://localhost:8080/",
          "height": 986
        },
        "outputId": "0d4d6643-dd47-483f-956e-a5dabba2205a"
      },
      "source": [
        "from keras.datasets import mnist\n",
        "from keras.layers import Dense, LSTM\n",
        "from keras.utils import to_categorical\n",
        "from keras.models import Sequential\n",
        "\n",
        "#LSTM模型中的參數數量\n",
        "nb_lstm_outputs = 30  \n",
        "nb_time_steps = 28  \n",
        "nb_input_vector = 28 \n",
        "\n",
        "#data preprocessing: tofloat32, normalization, one_hot encoding\n",
        "(x_train, y_train), (x_test, y_test) = mnist.load_data()\n",
        "x_train = x_train.astype('float32')\n",
        "x_test = x_test.astype('float32')\n",
        "x_train /= 255\n",
        "x_test /= 255\n",
        " \n",
        "y_train = to_categorical(y_train, num_classes=10)\n",
        "y_test = to_categorical(y_test, num_classes=10)\n",
        "\n",
        "#建立模型\n",
        "model = Sequential()\n",
        "model.add(LSTM(units=nb_lstm_outputs, input_shape=(nb_time_steps, nb_input_vector)))\n",
        "model.add(Dense(10, activation='softmax'))\n",
        "\n",
        "#編譯損失函數 Adam進行參數更新 識別精度\n",
        "model.compile(loss='categorical_crossentropy', optimizer='adam', metrics=['accuracy'])\n",
        "#訓練20次 一批128圖像資料 進度條顯示\n",
        "model.fit(x_train, y_train, epochs=20, batch_size=128, verbose=1)\n",
        "\n",
        "model.summary()\n",
        "#模型評估\n",
        "score = model.evaluate(x_test, y_test,batch_size=128, verbose=1)\n",
        "print(score)"
      ],
      "execution_count": 1,
      "outputs": [
        {
          "output_type": "stream",
          "text": [
            "Using TensorFlow backend.\n"
          ],
          "name": "stderr"
        },
        {
          "output_type": "stream",
          "text": [
            "Downloading data from https://s3.amazonaws.com/img-datasets/mnist.npz\n",
            "11493376/11490434 [==============================] - 1s 0us/step\n",
            "Epoch 1/20\n",
            "60000/60000 [==============================] - 38s 637us/step - loss: 0.9833 - accuracy: 0.6929\n",
            "Epoch 2/20\n",
            "60000/60000 [==============================] - 36s 605us/step - loss: 0.3146 - accuracy: 0.9086\n",
            "Epoch 3/20\n",
            "60000/60000 [==============================] - 37s 611us/step - loss: 0.2180 - accuracy: 0.9361\n",
            "Epoch 4/20\n",
            "60000/60000 [==============================] - 36s 601us/step - loss: 0.1727 - accuracy: 0.9502\n",
            "Epoch 5/20\n",
            "60000/60000 [==============================] - 36s 601us/step - loss: 0.1433 - accuracy: 0.9589\n",
            "Epoch 6/20\n",
            "60000/60000 [==============================] - 36s 605us/step - loss: 0.1292 - accuracy: 0.9631\n",
            "Epoch 7/20\n",
            "60000/60000 [==============================] - 36s 605us/step - loss: 0.1164 - accuracy: 0.9664\n",
            "Epoch 8/20\n",
            "60000/60000 [==============================] - 37s 610us/step - loss: 0.1052 - accuracy: 0.9690\n",
            "Epoch 9/20\n",
            "60000/60000 [==============================] - 36s 598us/step - loss: 0.0996 - accuracy: 0.9705\n",
            "Epoch 10/20\n",
            "60000/60000 [==============================] - 36s 594us/step - loss: 0.0925 - accuracy: 0.9733\n",
            "Epoch 11/20\n",
            "60000/60000 [==============================] - 36s 608us/step - loss: 0.0856 - accuracy: 0.9745\n",
            "Epoch 12/20\n",
            "60000/60000 [==============================] - 36s 595us/step - loss: 0.0818 - accuracy: 0.9754\n",
            "Epoch 13/20\n",
            "60000/60000 [==============================] - 36s 593us/step - loss: 0.0767 - accuracy: 0.9773\n",
            "Epoch 14/20\n",
            "60000/60000 [==============================] - 36s 595us/step - loss: 0.0719 - accuracy: 0.9787\n",
            "Epoch 15/20\n",
            "60000/60000 [==============================] - 37s 610us/step - loss: 0.0699 - accuracy: 0.9791\n",
            "Epoch 16/20\n",
            "60000/60000 [==============================] - 36s 600us/step - loss: 0.0660 - accuracy: 0.9803\n",
            "Epoch 17/20\n",
            "60000/60000 [==============================] - 36s 600us/step - loss: 0.0624 - accuracy: 0.9820\n",
            "Epoch 18/20\n",
            "60000/60000 [==============================] - 36s 604us/step - loss: 0.0604 - accuracy: 0.9823\n",
            "Epoch 19/20\n",
            "60000/60000 [==============================] - 36s 601us/step - loss: 0.0572 - accuracy: 0.9827\n",
            "Epoch 20/20\n",
            "60000/60000 [==============================] - 35s 591us/step - loss: 0.0559 - accuracy: 0.9836\n",
            "Model: \"sequential_1\"\n",
            "_________________________________________________________________\n",
            "Layer (type)                 Output Shape              Param #   \n",
            "=================================================================\n",
            "lstm_1 (LSTM)                (None, 30)                7080      \n",
            "_________________________________________________________________\n",
            "dense_1 (Dense)              (None, 10)                310       \n",
            "=================================================================\n",
            "Total params: 7,390\n",
            "Trainable params: 7,390\n",
            "Non-trainable params: 0\n",
            "_________________________________________________________________\n",
            "10000/10000 [==============================] - 1s 72us/step\n",
            "[0.07369174458347261, 0.9787999987602234]\n"
          ],
          "name": "stdout"
        }
      ]
    }
  ]
}