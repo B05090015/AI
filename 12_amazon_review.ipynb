{
  "nbformat": 4,
  "nbformat_minor": 0,
  "metadata": {
    "colab": {
      "name": "12.amazon_review.ipynb",
      "provenance": [],
      "collapsed_sections": []
    },
    "kernelspec": {
      "name": "python3",
      "display_name": "Python 3"
    },
    "accelerator": "GPU"
  },
  "cells": [
    {
      "cell_type": "markdown",
      "metadata": {
        "id": "nso27mZqZwA9",
        "colab_type": "text"
      },
      "source": [
        "**載入預設的庫**(20200507MUST)\n",
        "\n",
        "*   處理bz2\n",
        "*   處理kv值\n",
        "*   載入正規表示法\n",
        "*   載入英文分詞庫\n",
        "*   numpy\n"
      ]
    },
    {
      "cell_type": "code",
      "metadata": {
        "id": "Gs6Y_SYqZJgF",
        "colab_type": "code",
        "outputId": "b5ad939e-1f8c-4785-96a9-498a37113af9",
        "colab": {
          "base_uri": "https://localhost:8080/",
          "height": 34
        }
      },
      "source": [
        "from google.colab import drive\n",
        "drive.mount('/content/drive')"
      ],
      "execution_count": 23,
      "outputs": [
        {
          "output_type": "stream",
          "text": [
            "Drive already mounted at /content/drive; to attempt to forcibly remount, call drive.mount(\"/content/drive\", force_remount=True).\n"
          ],
          "name": "stdout"
        }
      ]
    },
    {
      "cell_type": "code",
      "metadata": {
        "id": "xcyvv08PbIbE",
        "colab_type": "code",
        "outputId": "dacf4c22-f1d1-494e-d601-44ed13b6eda3",
        "colab": {
          "base_uri": "https://localhost:8080/",
          "height": 51
        }
      },
      "source": [
        "import bz2\n",
        "from collections import Counter\n",
        "import re\n",
        "import nltk\n",
        "import numpy as np\n",
        "nltk.download('punkt')\n",
        "\n",
        "train_file = bz2.BZ2File('/content/drive/My Drive/train.ft.txt.bz2')\n",
        "test_file = bz2.BZ2File('/content/drive/My Drive/test.ft.txt.bz2')\n",
        "\n",
        "train_file = train_file.readlines()\n",
        "test_file = test_file.readlines()"
      ],
      "execution_count": 22,
      "outputs": [
        {
          "output_type": "stream",
          "text": [
            "[nltk_data] Downloading package punkt to /root/nltk_data...\n",
            "[nltk_data]   Package punkt is already up-to-date!\n"
          ],
          "name": "stdout"
        }
      ]
    },
    {
      "cell_type": "markdown",
      "metadata": {
        "id": "i1bcOLYEbNlV",
        "colab_type": "text"
      },
      "source": [
        "**看一下檔案中有什麼，並且看一共有多大**"
      ]
    },
    {
      "cell_type": "code",
      "metadata": {
        "id": "dLpUDN28bRw8",
        "colab_type": "code",
        "outputId": "c226ff43-843b-4ae3-bf41-e377fde8ce9f",
        "colab": {
          "base_uri": "https://localhost:8080/",
          "height": 71
        }
      },
      "source": [
        "print(train_file[67])\n",
        "print(len(train_file))"
      ],
      "execution_count": 24,
      "outputs": [
        {
          "output_type": "stream",
          "text": [
            "b'__label__2 Even Mommy has fun with this one!: My four year old daughter loves everything Barbie and loves the Rapunzel movie. This game is tons of fun, even for a 42 year old. We love playing it together. We love decorating all the rooms and finding the gems. What even better is, she can play it alone and I get some me time!\\n'\n",
            "3600000\n"
          ],
          "name": "stdout"
        }
      ]
    },
    {
      "cell_type": "markdown",
      "metadata": {
        "id": "LbOYyLnRcRA-",
        "colab_type": "text"
      },
      "source": [
        "**原檔案太大，只取其中80萬，原來有360萬**\n",
        "**同時將檔案轉成utf8格式**"
      ]
    },
    {
      "cell_type": "code",
      "metadata": {
        "id": "i0F27VTFcVTM",
        "colab_type": "code",
        "colab": {}
      },
      "source": [
        "num_train = 800000  # We're training on the first 800,000 reviews in the dataset\n",
        "num_test = 200000  # Using 200,000 reviews from test set\n",
        "# num_train = len(train_file)\n",
        "# num_test = len(test_file)\n",
        "train_file = [x.decode('utf-8') for x in train_file[:num_train]]\n",
        "test_file = [x.decode('utf-8') for x in test_file[:num_test]]"
      ],
      "execution_count": 0,
      "outputs": []
    },
    {
      "cell_type": "markdown",
      "metadata": {
        "id": "BC1K11X3cpD8",
        "colab_type": "text"
      },
      "source": [
        "**看一下檔案中有什麼，並且看一共有多大**"
      ]
    },
    {
      "cell_type": "code",
      "metadata": {
        "id": "xbazZ82DcwHU",
        "colab_type": "code",
        "outputId": "be1d446d-dd6e-43b0-c69c-358937fd2826",
        "colab": {
          "base_uri": "https://localhost:8080/",
          "height": 88
        }
      },
      "source": [
        "print(train_file[67])\n",
        "print(len(train_file))"
      ],
      "execution_count": 26,
      "outputs": [
        {
          "output_type": "stream",
          "text": [
            "__label__2 Even Mommy has fun with this one!: My four year old daughter loves everything Barbie and loves the Rapunzel movie. This game is tons of fun, even for a 42 year old. We love playing it together. We love decorating all the rooms and finding the gems. What even better is, she can play it alone and I get some me time!\n",
            "\n",
            "800000\n"
          ],
          "name": "stdout"
        }
      ]
    },
    {
      "cell_type": "markdown",
      "metadata": {
        "id": "MfCfGfiac8lt",
        "colab_type": "text"
      },
      "source": [
        "**將標記抓出，正評為1、負評為0，同時對訓練集和測試集進行**"
      ]
    },
    {
      "cell_type": "code",
      "metadata": {
        "id": "iZ2buVbnc9qc",
        "colab_type": "code",
        "colab": {}
      },
      "source": [
        "train_labels = [0 if x.split(' ')[0] == '__label__1' else 1 for x in train_file]\n",
        "train_sentences = [x.split(' ', 1)[1][:-1].lower() for x in train_file]\n",
        "\n",
        "test_labels = [0 if x.split(' ')[0] == '__label__1' else 1 for x in test_file]\n",
        "test_sentences = [x.split(' ', 1)[1][:-1].lower() for x in test_file]"
      ],
      "execution_count": 0,
      "outputs": []
    },
    {
      "cell_type": "markdown",
      "metadata": {
        "id": "lOdFse5DdUdU",
        "colab_type": "text"
      },
      "source": [
        "\n",
        "**看一下標記和資料的長相**"
      ]
    },
    {
      "cell_type": "code",
      "metadata": {
        "id": "Mw1NDAOzdYt0",
        "colab_type": "code",
        "outputId": "f2d3275e-ed1d-423d-cca1-42ae258d90e5",
        "colab": {
          "base_uri": "https://localhost:8080/",
          "height": 88
        }
      },
      "source": [
        "print(len(train_labels))\n",
        "print(train_labels[67])\n",
        "print(train_sentences[67])"
      ],
      "execution_count": 28,
      "outputs": [
        {
          "output_type": "stream",
          "text": [
            "800000\n",
            "1\n",
            "even mommy has fun with this one!: my four year old daughter loves everything barbie and loves the rapunzel movie. this game is tons of fun, even for a 42 year old. we love playing it together. we love decorating all the rooms and finding the gems. what even better is, she can play it alone and i get some me time!\n"
          ],
          "name": "stdout"
        }
      ]
    },
    {
      "cell_type": "markdown",
      "metadata": {
        "id": "OWjl2iyzdx-0",
        "colab_type": "text"
      },
      "source": [
        "\n",
        "**把數字全部變成0**"
      ]
    },
    {
      "cell_type": "code",
      "metadata": {
        "id": "PM1AKo5qd0nU",
        "colab_type": "code",
        "colab": {}
      },
      "source": [
        "# Some simple cleaning of data\n",
        "for i in range(len(train_sentences)):\n",
        "    train_sentences[i] = re.sub('\\d','0',train_sentences[i])\n",
        "\n",
        "for i in range(len(test_sentences)):\n",
        "    test_sentences[i] = re.sub('\\d','0',test_sentences[i])"
      ],
      "execution_count": 0,
      "outputs": []
    },
    {
      "cell_type": "markdown",
      "metadata": {
        "id": "60nrKIIcd8nE",
        "colab_type": "text"
      },
      "source": [
        "**找一筆資料出來看**"
      ]
    },
    {
      "cell_type": "code",
      "metadata": {
        "id": "ZUmbMRmkd9kE",
        "colab_type": "code",
        "outputId": "06ed42f1-c8fb-41fb-f330-fde51ff71acf",
        "colab": {
          "base_uri": "https://localhost:8080/",
          "height": 54
        }
      },
      "source": [
        "print(train_sentences[67])"
      ],
      "execution_count": 30,
      "outputs": [
        {
          "output_type": "stream",
          "text": [
            "even mommy has fun with this one!: my four year old daughter loves everything barbie and loves the rapunzel movie. this game is tons of fun, even for a 00 year old. we love playing it together. we love decorating all the rooms and finding the gems. what even better is, she can play it alone and i get some me time!\n"
          ],
          "name": "stdout"
        }
      ]
    },
    {
      "cell_type": "markdown",
      "metadata": {
        "id": "fqXjJZfHeG_1",
        "colab_type": "text"
      },
      "source": [
        "**把網址全部換成'\\**"
      ]
    },
    {
      "cell_type": "code",
      "metadata": {
        "id": "dyGs-ZtyeLnE",
        "colab_type": "code",
        "colab": {}
      },
      "source": [
        "# Modify URLs to <url>\n",
        "for i in range(len(train_sentences)):\n",
        "    if 'www.' in train_sentences[i] or 'http:' in train_sentences[i] or 'https:' in train_sentences[i] or '.com' in train_sentences[i]:\n",
        "        train_sentences[i] = re.sub(r\"([^ ]+(?<=\\.[a-z]{3}))\", \"<url>\", train_sentences[i])\n",
        "        \n",
        "for i in range(len(test_sentences)):\n",
        "    if 'www.' in test_sentences[i] or 'http:' in test_sentences[i] or 'https:' in test_sentences[i] or '.com' in test_sentences[i]:\n",
        "        test_sentences[i] = re.sub(r\"([^ ]+(?<=\\.[a-z]{3}))\", \"<url>\", test_sentences[i])"
      ],
      "execution_count": 0,
      "outputs": []
    },
    {
      "cell_type": "markdown",
      "metadata": {
        "id": "4GVLufqzeQLs",
        "colab_type": "text"
      },
      "source": [
        "**找一筆出來看**"
      ]
    },
    {
      "cell_type": "code",
      "metadata": {
        "id": "P5ezH3kueUf9",
        "colab_type": "code",
        "outputId": "f597112e-bf44-4903-8462-8586167763c0",
        "colab": {
          "base_uri": "https://localhost:8080/",
          "height": 105
        }
      },
      "source": [
        "with_url = 0\n",
        "for ii, s in enumerate(train_sentences):\n",
        "    if '<url>' in s:\n",
        "        with_url = ii\n",
        "        print(ii)\n",
        "        break\n",
        "print(train_file[5])\n",
        "print(train_sentences[with_url])"
      ],
      "execution_count": 32,
      "outputs": [
        {
          "output_type": "stream",
          "text": [
            "5\n",
            "__label__2 an absolute masterpiece: I am quite sure any of you actually taking the time to read this have played the game at least once, and heard at least a few of the tracks here. And whether you were aware of it or not, Mitsuda's music contributed greatly to the mood of every single minute of the whole game.Composed of 3 CDs and quite a few songs (I haven't an exact count), all of which are heart-rendering and impressively remarkable, this soundtrack is one I assure you you will not forget. It has everything for every listener -- from fast-paced and energetic (Dancing the Tokage or Termina Home), to slower and more haunting (Dragon God), to purely beautifully composed (Time's Scar), to even some fantastic vocals (Radical Dreamers).This is one of the best videogame soundtracks out there, and surely Mitsuda's best ever. ^_^\n",
            "\n",
            "an absolute masterpiece: i am quite sure any of you actually taking the time to read this have played the game at least once, and heard at least a few of the tracks here. and whether you were aware of it or not, mitsuda's music contributed greatly to the mood of every single minute of the whole <url>posed of 0 cds and quite a few songs (i haven't an exact count), all of which are heart-rendering and impressively remarkable, this soundtrack is one i assure you you will not forget. it has everything for every listener -- from fast-paced and energetic (dancing the tokage or termina home), to slower and more haunting (dragon god), to purely beautifully composed (time's scar), to even some fantastic vocals (radical <url>s is one of the best videogame soundtracks out there, and surely mitsuda's best ever. ^_^\n"
          ],
          "name": "stdout"
        }
      ]
    },
    {
      "cell_type": "markdown",
      "metadata": {
        "id": "dI12H9ivenx8",
        "colab_type": "text"
      },
      "source": [
        "**將句子分詞為單字**\n",
        "\n",
        "\n",
        "*   啟用Counter\n",
        "*   先將某條句定清空，再將分詞完之後的單詞存入該句子，使用ntlk\n"
      ]
    },
    {
      "cell_type": "code",
      "metadata": {
        "id": "Nx1czg6rfEI9",
        "colab_type": "code",
        "outputId": "cd37c2ef-f8fb-4add-a90f-1b54f1dc7117",
        "colab": {
          "base_uri": "https://localhost:8080/",
          "height": 714
        }
      },
      "source": [
        "words = Counter()  # Dictionary that will map a word to the number of times it appeared in all the training sentences\n",
        "for i, sentence in enumerate(train_sentences):\n",
        "    # The sentences will be stored as a list of words/tokens\n",
        "    train_sentences[i] = []\n",
        "    for word in nltk.word_tokenize(sentence):  # Tokenizing the words\n",
        "        words.update([word.lower()])  # Converting all the words to lowercase\n",
        "        train_sentences[i].append(word)\n",
        "    if i%20000 == 0:\n",
        "        print(str((i*100)/num_train) + \"% done\")\n",
        "print(\"100% done\")"
      ],
      "execution_count": 33,
      "outputs": [
        {
          "output_type": "stream",
          "text": [
            "0.0% done\n",
            "2.5% done\n",
            "5.0% done\n",
            "7.5% done\n",
            "10.0% done\n",
            "12.5% done\n",
            "15.0% done\n",
            "17.5% done\n",
            "20.0% done\n",
            "22.5% done\n",
            "25.0% done\n",
            "27.5% done\n",
            "30.0% done\n",
            "32.5% done\n",
            "35.0% done\n",
            "37.5% done\n",
            "40.0% done\n",
            "42.5% done\n",
            "45.0% done\n",
            "47.5% done\n",
            "50.0% done\n",
            "52.5% done\n",
            "55.0% done\n",
            "57.5% done\n",
            "60.0% done\n",
            "62.5% done\n",
            "65.0% done\n",
            "67.5% done\n",
            "70.0% done\n",
            "72.5% done\n",
            "75.0% done\n",
            "77.5% done\n",
            "80.0% done\n",
            "82.5% done\n",
            "85.0% done\n",
            "87.5% done\n",
            "90.0% done\n",
            "92.5% done\n",
            "95.0% done\n",
            "97.5% done\n",
            "100% done\n"
          ],
          "name": "stdout"
        }
      ]
    },
    {
      "cell_type": "markdown",
      "metadata": {
        "id": "quRSI8fInzZf",
        "colab_type": "text"
      },
      "source": [
        "**查看分完詞後的句子長相**"
      ]
    },
    {
      "cell_type": "code",
      "metadata": {
        "id": "j_q_HFwmn7Ms",
        "colab_type": "code",
        "outputId": "ac8697cc-772b-432d-943d-8eb27d82a2fb",
        "colab": {
          "base_uri": "https://localhost:8080/",
          "height": 54
        }
      },
      "source": [
        "print(train_sentences[67])"
      ],
      "execution_count": 34,
      "outputs": [
        {
          "output_type": "stream",
          "text": [
            "['even', 'mommy', 'has', 'fun', 'with', 'this', 'one', '!', ':', 'my', 'four', 'year', 'old', 'daughter', 'loves', 'everything', 'barbie', 'and', 'loves', 'the', 'rapunzel', 'movie', '.', 'this', 'game', 'is', 'tons', 'of', 'fun', ',', 'even', 'for', 'a', '00', 'year', 'old', '.', 'we', 'love', 'playing', 'it', 'together', '.', 'we', 'love', 'decorating', 'all', 'the', 'rooms', 'and', 'finding', 'the', 'gems', '.', 'what', 'even', 'better', 'is', ',', 'she', 'can', 'play', 'it', 'alone', 'and', 'i', 'get', 'some', 'me', 'time', '!']\n"
          ],
          "name": "stdout"
        }
      ]
    },
    {
      "cell_type": "markdown",
      "metadata": {
        "id": "GrDswP4LoCzT",
        "colab_type": "text"
      },
      "source": [
        "\n",
        "**把只出現一次的字刪除，只留出現兩次以上的字**\n",
        "\n",
        "**把字照出現次數排序**"
      ]
    },
    {
      "cell_type": "code",
      "metadata": {
        "id": "NqT8by6goFVU",
        "colab_type": "code",
        "colab": {}
      },
      "source": [
        "words = {k:v for k,v in words.items() if v>1}\n",
        "# Sorting the words according to the number of appearances, with the most common word being first\n",
        "words = sorted(words, key=words.get, reverse=True)"
      ],
      "execution_count": 0,
      "outputs": []
    },
    {
      "cell_type": "markdown",
      "metadata": {
        "id": "Mui8fUOLoJ2N",
        "colab_type": "text"
      },
      "source": [
        "印出一個字來看長什麼樣子"
      ]
    },
    {
      "cell_type": "code",
      "metadata": {
        "id": "giwF8g-sodLG",
        "colab_type": "code",
        "outputId": "c33bd8ae-c0a9-492b-ca52-4930cd0374b5",
        "colab": {
          "base_uri": "https://localhost:8080/",
          "height": 51
        }
      },
      "source": [
        "print(len(words))\n",
        "print(words[100])"
      ],
      "execution_count": 36,
      "outputs": [
        {
          "output_type": "stream",
          "text": [
            "225962\n",
            "she\n"
          ],
          "name": "stdout"
        }
      ]
    },
    {
      "cell_type": "markdown",
      "metadata": {
        "id": "XYzQiddioiHd",
        "colab_type": "text"
      },
      "source": [
        "將未知字和補0算一個字加進去\n",
        "\n",
        "*   開始將字編號\n",
        "*   建立字對編號的關係，雙向所以有兩個\n",
        "\n"
      ]
    },
    {
      "cell_type": "code",
      "metadata": {
        "id": "vkStPiPDosZ2",
        "colab_type": "code",
        "colab": {}
      },
      "source": [
        "\n",
        "words = ['_PAD','_UNK'] + words\n",
        "# Dictionaries to store the word to index mappings and vice versa\n",
        "word2idx = {o:i for i,o in enumerate(words)}\n",
        "idx2word = {i:o for i,o in enumerate(words)}"
      ],
      "execution_count": 0,
      "outputs": []
    },
    {
      "cell_type": "markdown",
      "metadata": {
        "id": "lVGs6IdKo00M",
        "colab_type": "text"
      },
      "source": [
        "**印出某個字來看其索引，並且印出索引看字是什麼**"
      ]
    },
    {
      "cell_type": "code",
      "metadata": {
        "id": "ju39aIz2o3LO",
        "colab_type": "code",
        "outputId": "308ffb79-b15c-4939-9848-d01477d95a5d",
        "colab": {
          "base_uri": "https://localhost:8080/",
          "height": 51
        }
      },
      "source": [
        "\n",
        "print(word2idx['the'])\n",
        "print(idx2word[100])"
      ],
      "execution_count": 38,
      "outputs": [
        {
          "output_type": "stream",
          "text": [
            "3\n",
            "album\n"
          ],
          "name": "stdout"
        }
      ]
    },
    {
      "cell_type": "markdown",
      "metadata": {
        "id": "VtQji8Sio55V",
        "colab_type": "text"
      },
      "source": [
        "**把訓練句子中的所有文字都轉成索引，還有測試句子**"
      ]
    },
    {
      "cell_type": "code",
      "metadata": {
        "id": "OcmwFRvho8m1",
        "colab_type": "code",
        "colab": {}
      },
      "source": [
        "for i, sentence in enumerate(train_sentences):\n",
        "    # Looking up the mapping dictionary and assigning the index to the respective words\n",
        "    train_sentences[i] = [word2idx[word] if word in word2idx else 0 for word in sentence]\n",
        "\n",
        "for i, sentence in enumerate(test_sentences):\n",
        "    # For test sentences, we have to tokenize the sentences as well\n",
        "    test_sentences[i] = [word2idx[word.lower()] if word.lower() in word2idx else 0 for word in nltk.word_tokenize(sentence)]"
      ],
      "execution_count": 0,
      "outputs": []
    },
    {
      "cell_type": "markdown",
      "metadata": {
        "id": "BaPlIOh0pYVl",
        "colab_type": "text"
      },
      "source": [
        "\n",
        "**印出一個句子出來看看**"
      ]
    },
    {
      "cell_type": "code",
      "metadata": {
        "id": "tD2c21OcpbOG",
        "colab_type": "code",
        "outputId": "cfee8c73-30f7-4419-ebe1-377fdab9c31d",
        "colab": {
          "base_uri": "https://localhost:8080/",
          "height": 71
        }
      },
      "source": [
        "print(len(train_sentences[67]))\n",
        "print(train_sentences[67])"
      ],
      "execution_count": 40,
      "outputs": [
        {
          "output_type": "stream",
          "text": [
            "71\n",
            "[88, 6044, 58, 238, 23, 11, 31, 15, 13, 28, 610, 223, 152, 462, 483, 309, 4718, 6, 483, 3, 44246, 50, 2, 11, 211, 12, 2607, 10, 238, 4, 88, 16, 7, 81, 223, 152, 2, 86, 89, 487, 9, 356, 2, 86, 89, 8389, 35, 3, 4865, 6, 1288, 3, 4155, 2, 57, 88, 109, 12, 4, 102, 69, 262, 9, 788, 6, 5, 71, 79, 59, 70, 15]\n"
          ],
          "name": "stdout"
        }
      ]
    },
    {
      "cell_type": "markdown",
      "metadata": {
        "id": "rMPpMLyuqJym",
        "colab_type": "text"
      },
      "source": [
        "**印一個超過200的句子來看**"
      ]
    },
    {
      "cell_type": "code",
      "metadata": {
        "id": "LQidMGzeqGyt",
        "colab_type": "code",
        "outputId": "eb739bb4-2c27-443e-c1ad-28e1a7820cf6",
        "colab": {
          "base_uri": "https://localhost:8080/",
          "height": 122
        }
      },
      "source": [
        "more_than_200 = 0\n",
        "for ii, s in enumerate(train_sentences):\n",
        "    if len(s) > 200:\n",
        "        more_than_200 = ii\n",
        "        print(len(s))\n",
        "        print(ii)\n",
        "        break\n",
        "print(train_file[more_than_200])\n",
        "print(train_sentences[more_than_200])"
      ],
      "execution_count": 41,
      "outputs": [
        {
          "output_type": "stream",
          "text": [
            "204\n",
            "71\n",
            "__label__1 barbie rapunzel = crying child: My 6-year old daughter is currently sobbing in her bedroom as a result of this rotten game.She spent an hour on this game painting in pretty pictures and coloring in flowers. But halfway through the game, the program hung, and wouldn't let us leave the room or click anywhere else. Now even if we exit the game and then start it back up, we are frozen in one spot while Barbie's disembodied voice urges us to \"explore somewhere else in the castle.\"Standard software troubleshooting and rebooting didn't help. Vivendi Games' support site is \"currently disabled.\" And now I'm left with a weeping, frustrating child who doesn't understand that it is not her fault that her game won't work. I'm hoping it was just incompetent software programming that couldn't catch the bug my 6-year old caught the first time around. Or maybe they just don't care about the problems, so long as you get our 20 bucks. If you don't want a crying little girl, avoid this game!\n",
            "\n",
            "[4718, 44246, 2181, 3093, 466, 13, 28, 6213, 152, 462, 12, 2038, 24705, 14, 85, 3480, 29, 7, 1278, 10, 11, 6106, 0, 726, 52, 810, 25, 11, 211, 3958, 14, 249, 582, 6, 7678, 14, 5047, 2, 22, 2704, 161, 3, 211, 4, 3, 937, 4344, 4, 6, 51, 26, 308, 248, 708, 3, 649, 53, 2822, 1382, 363, 2, 129, 88, 39, 86, 7734, 3, 211, 6, 114, 395, 9, 137, 74, 4, 86, 30, 4663, 14, 31, 1927, 176, 4718, 21, 43061, 392, 20866, 248, 8, 33, 3582, 1523, 363, 14, 3, 4032, 2, 33, 981, 757, 8824, 6, 17960, 76, 26, 325, 2, 28578, 792, 155, 605, 1214, 12, 33, 2038, 9273, 2, 32, 6, 129, 5, 122, 388, 23, 7, 20278, 4, 1697, 466, 80, 82, 26, 341, 17, 9, 12, 20, 85, 1863, 17, 85, 211, 350, 26, 117, 2, 5, 122, 784, 9, 18, 47, 9773, 757, 2602, 17, 93, 26, 1661, 3, 4006, 28, 6213, 152, 1455, 3, 84, 70, 251, 2, 53, 319, 41, 47, 37, 26, 508, 54, 3, 425, 4, 36, 183, 29, 19, 71, 189, 81, 1424, 2, 39, 19, 37, 26, 148, 7, 3093, 123, 516, 4, 835, 11, 211, 15]\n"
          ],
          "name": "stdout"
        }
      ]
    },
    {
      "cell_type": "markdown",
      "metadata": {
        "id": "x_OQdlIHqdHz",
        "colab_type": "text"
      },
      "source": [
        "**把句子不到200的前面補上0，如果超過200，就把200以後的刪除，讓每個句子的長度都是200**"
      ]
    },
    {
      "cell_type": "code",
      "metadata": {
        "id": "8TIKj9yOqbhF",
        "colab_type": "code",
        "colab": {}
      },
      "source": [
        "# Defining a function that either shortens sentences or pads sentences with 0 to a fixed length\n",
        "def pad_input(sentences, seq_len):\n",
        "    features = np.zeros((len(sentences), seq_len),dtype=int)\n",
        "    for ii, review in enumerate(sentences):\n",
        "        if len(review) != 0:\n",
        "            features[ii, -len(review):] = np.array(review)[:seq_len]\n",
        "    return features\n",
        "\n",
        "seq_len = 200  # The length that the sentences will be padded/shortened to\n",
        "\n",
        "train_sentences = pad_input(train_sentences, seq_len)\n",
        "test_sentences = pad_input(test_sentences, seq_len)\n",
        "\n",
        "# Converting our labels into numpy arrays\n",
        "train_labels = np.array(train_labels)\n",
        "test_labels = np.array(test_labels)"
      ],
      "execution_count": 0,
      "outputs": []
    },
    {
      "cell_type": "markdown",
      "metadata": {
        "id": "0tnCWTgZqh1O",
        "colab_type": "text"
      },
      "source": [
        "**印一個補過0的出來看**"
      ]
    },
    {
      "cell_type": "code",
      "metadata": {
        "id": "hKVkSAnsqiCu",
        "colab_type": "code",
        "outputId": "59d8ce9c-4018-48df-e869-47b0c26f617a",
        "colab": {
          "base_uri": "https://localhost:8080/",
          "height": 323
        }
      },
      "source": [
        "print(len(train_sentences[67]))\n",
        "print(train_sentences[67])"
      ],
      "execution_count": 43,
      "outputs": [
        {
          "output_type": "stream",
          "text": [
            "200\n",
            "[    0     0     0     0     0     0     0     0     0     0     0     0\n",
            "     0     0     0     0     0     0     0     0     0     0     0     0\n",
            "     0     0     0     0     0     0     0     0     0     0     0     0\n",
            "     0     0     0     0     0     0     0     0     0     0     0     0\n",
            "     0     0     0     0     0     0     0     0     0     0     0     0\n",
            "     0     0     0     0     0     0     0     0     0     0     0     0\n",
            "     0     0     0     0     0     0     0     0     0     0     0     0\n",
            "     0     0     0     0     0     0     0     0     0     0     0     0\n",
            "     0     0     0     0     0     0     0     0     0     0     0     0\n",
            "     0     0     0     0     0     0     0     0     0     0     0     0\n",
            "     0     0     0     0     0     0     0     0     0    88  6044    58\n",
            "   238    23    11    31    15    13    28   610   223   152   462   483\n",
            "   309  4718     6   483     3 44246    50     2    11   211    12  2607\n",
            "    10   238     4    88    16     7    81   223   152     2    86    89\n",
            "   487     9   356     2    86    89  8389    35     3  4865     6  1288\n",
            "     3  4155     2    57    88   109    12     4   102    69   262     9\n",
            "   788     6     5    71    79    59    70    15]\n"
          ],
          "name": "stdout"
        }
      ]
    },
    {
      "cell_type": "markdown",
      "metadata": {
        "id": "GdNQcuh7q3Ug",
        "colab_type": "text"
      },
      "source": [
        "**印出一個被截斷的來看**"
      ]
    },
    {
      "cell_type": "code",
      "metadata": {
        "id": "6NoZVZ27q4a2",
        "colab_type": "code",
        "outputId": "be87211d-bd85-4252-8fd8-28582222b19b",
        "colab": {
          "base_uri": "https://localhost:8080/",
          "height": 323
        }
      },
      "source": [
        "print(len(train_sentences[more_than_200]))\n",
        "print(train_sentences[more_than_200])"
      ],
      "execution_count": 44,
      "outputs": [
        {
          "output_type": "stream",
          "text": [
            "200\n",
            "[ 4718 44246  2181  3093   466    13    28  6213   152   462    12  2038\n",
            " 24705    14    85  3480    29     7  1278    10    11  6106     0   726\n",
            "    52   810    25    11   211  3958    14   249   582     6  7678    14\n",
            "  5047     2    22  2704   161     3   211     4     3   937  4344     4\n",
            "     6    51    26   308   248   708     3   649    53  2822  1382   363\n",
            "     2   129    88    39    86  7734     3   211     6   114   395     9\n",
            "   137    74     4    86    30  4663    14    31  1927   176  4718    21\n",
            " 43061   392 20866   248     8    33  3582  1523   363    14     3  4032\n",
            "     2    33   981   757  8824     6 17960    76    26   325     2 28578\n",
            "   792   155   605  1214    12    33  2038  9273     2    32     6   129\n",
            "     5   122   388    23     7 20278     4  1697   466    80    82    26\n",
            "   341    17     9    12    20    85  1863    17    85   211   350    26\n",
            "   117     2     5   122   784     9    18    47  9773   757  2602    17\n",
            "    93    26  1661     3  4006    28  6213   152  1455     3    84    70\n",
            "   251     2    53   319    41    47    37    26   508    54     3   425\n",
            "     4    36   183    29    19    71   189    81  1424     2    39    19\n",
            "    37    26   148     7  3093   123   516     4]\n"
          ],
          "name": "stdout"
        }
      ]
    },
    {
      "cell_type": "markdown",
      "metadata": {
        "id": "ASDIe-J7q75F",
        "colab_type": "text"
      },
      "source": [
        "把測試資料集分成test和validation"
      ]
    },
    {
      "cell_type": "code",
      "metadata": {
        "id": "4Hm0H7aNq8L1",
        "colab_type": "code",
        "colab": {}
      },
      "source": [
        "split_frac = 0.5 # 50% validation, 50% test\n",
        "split_id = int(split_frac * len(test_sentences))\n",
        "val_sentences, test_sentences = test_sentences[:split_id], test_sentences[split_id:]\n",
        "val_labels, test_labels = test_labels[:split_id], test_labels[split_id:]"
      ],
      "execution_count": 0,
      "outputs": []
    },
    {
      "cell_type": "markdown",
      "metadata": {
        "id": "QjZq5OlgrGqt",
        "colab_type": "text"
      },
      "source": [
        "**看測試資料集的長度為多少**"
      ]
    },
    {
      "cell_type": "code",
      "metadata": {
        "id": "0hkJFA1jrG1e",
        "colab_type": "code",
        "outputId": "490a702d-5731-402f-ed28-061a8473c751",
        "colab": {
          "base_uri": "https://localhost:8080/",
          "height": 34
        }
      },
      "source": [
        "print(len(val_sentences))"
      ],
      "execution_count": 46,
      "outputs": [
        {
          "output_type": "stream",
          "text": [
            "100000\n"
          ],
          "name": "stdout"
        }
      ]
    },
    {
      "cell_type": "markdown",
      "metadata": {
        "id": "FbiJTAWhrMn-",
        "colab_type": "text"
      },
      "source": [
        "將資料載入pytorch格式\n",
        "\n",
        "*   三個資料集的載入\n",
        "*   設定批次大小\n",
        "*   建立dataloader的generator\n"
      ]
    },
    {
      "cell_type": "code",
      "metadata": {
        "id": "OIE38mLCrMzt",
        "colab_type": "code",
        "colab": {}
      },
      "source": [
        "import torch\n",
        "from torch.utils.data import TensorDataset, DataLoader\n",
        "import torch.nn as nn\n",
        "\n",
        "train_data = TensorDataset(torch.from_numpy(train_sentences), torch.from_numpy(train_labels))\n",
        "val_data = TensorDataset(torch.from_numpy(val_sentences), torch.from_numpy(val_labels))\n",
        "test_data = TensorDataset(torch.from_numpy(test_sentences), torch.from_numpy(test_labels))\n",
        "\n",
        "batch_size = 400\n",
        "\n",
        "train_loader = DataLoader(train_data, shuffle=True, batch_size=batch_size)\n",
        "val_loader = DataLoader(val_data, shuffle=True, batch_size=batch_size)\n",
        "test_loader = DataLoader(test_data, shuffle=True, batch_size=batch_size)"
      ],
      "execution_count": 0,
      "outputs": []
    },
    {
      "cell_type": "markdown",
      "metadata": {
        "id": "cimEPBGJrkzv",
        "colab_type": "text"
      },
      "source": [
        "**檢查是否有gpu存在**"
      ]
    },
    {
      "cell_type": "code",
      "metadata": {
        "id": "q1w8vUGkrk-l",
        "colab_type": "code",
        "outputId": "de772dc8-06b7-4bee-fe36-060491607289",
        "colab": {
          "base_uri": "https://localhost:8080/",
          "height": 34
        }
      },
      "source": [
        "device = torch.device('cuda' if torch.cuda.is_available() else 'cpu')\n",
        "print(device)"
      ],
      "execution_count": 48,
      "outputs": [
        {
          "output_type": "stream",
          "text": [
            "cuda\n"
          ],
          "name": "stdout"
        }
      ]
    },
    {
      "cell_type": "markdown",
      "metadata": {
        "id": "62NgJlS1roLG",
        "colab_type": "text"
      },
      "source": [
        "\n",
        "**建立網路**\n",
        "\n",
        "*   vocab_size：字彙檔的大小，就是一個one-hot的資料\n",
        "*   output_size：大小為1，因為只要一個值，介於0和1之間\n",
        "*   embedding_dim：就是word2vec的特徵大小，從vocab_size降維過來的\n",
        "*   hidden_dim：hidden和cell states的維度\n",
        "*   n_layers：lstm的層數\n",
        "*   drop_prob：dropout的比例\n"
      ]
    },
    {
      "cell_type": "code",
      "metadata": {
        "id": "grYNfkWUroUF",
        "colab_type": "code",
        "colab": {}
      },
      "source": [
        "class SentimentNet(nn.Module):\n",
        "    def __init__(self, vocab_size, output_size, embedding_dim, hidden_dim, n_layers, drop_prob=0.5):\n",
        "        super(SentimentNet, self).__init__()\n",
        "        self.output_size = output_size\n",
        "        self.n_layers = n_layers\n",
        "        self.hidden_dim = hidden_dim\n",
        "        \n",
        "        self.embedding = nn.Embedding(vocab_size, embedding_dim)\n",
        "        self.lstm = nn.LSTM(embedding_dim, hidden_dim, n_layers, dropout=drop_prob, batch_first=True)\n",
        "        self.dropout = nn.Dropout(drop_prob)\n",
        "        self.fc = nn.Linear(hidden_dim, output_size)\n",
        "        self.sigmoid = nn.Sigmoid()\n",
        "        \n",
        "    def forward(self, x, hidden):\n",
        "        batch_size = x.size(0)\n",
        "        x = x.long()\n",
        "        embeds = self.embedding(x)\n",
        "        lstm_out, hidden = self.lstm(embeds, hidden)\n",
        "        lstm_out = lstm_out.contiguous().view(-1, self.hidden_dim)\n",
        "        \n",
        "        out = self.dropout(lstm_out)\n",
        "        out = self.fc(out)\n",
        "        out = self.sigmoid(out)\n",
        "        \n",
        "        out = out.view(batch_size, -1)\n",
        "        out = out[:,-1]\n",
        "        return out, hidden\n",
        "    \n",
        "    def init_hidden(self, batch_size):\n",
        "        weight = next(self.parameters()).data\n",
        "        hidden = (weight.new(self.n_layers, batch_size, self.hidden_dim).zero_().to(device),\n",
        "                      weight.new(self.n_layers, batch_size, self.hidden_dim).zero_().to(device))\n",
        "        return hidden"
      ],
      "execution_count": 0,
      "outputs": []
    },
    {
      "cell_type": "markdown",
      "metadata": {
        "id": "d_Fqlk1LsCFY",
        "colab_type": "text"
      },
      "source": [
        "定義超參數\n",
        "\n",
        "\n",
        "*   定義超參數\n",
        "*   建立模型\n",
        "*   將模型移入gpu中\n",
        "*   定義學習率\n",
        "*   定義損失函數\n",
        "*   定義最佳化方法\n"
      ]
    },
    {
      "cell_type": "code",
      "metadata": {
        "id": "15HIEB-LsCOG",
        "colab_type": "code",
        "colab": {}
      },
      "source": [
        "vocab_size = len(word2idx) + 1\n",
        "output_size = 1\n",
        "embedding_dim = 400\n",
        "hidden_dim = 512\n",
        "n_layers = 2\n",
        "\n",
        "model = SentimentNet(vocab_size, output_size, embedding_dim, hidden_dim, n_layers)\n",
        "model.to(device)\n",
        "\n",
        "lr=0.005\n",
        "criterion = nn.BCELoss()\n",
        "optimizer = torch.optim.Adam(model.parameters(), lr=lr)"
      ],
      "execution_count": 0,
      "outputs": []
    },
    {
      "cell_type": "markdown",
      "metadata": {
        "id": "iz7s0becsXG6",
        "colab_type": "text"
      },
      "source": [
        "**接下來把整個網路手動走一遍**\n",
        "\n",
        "**啟始化hidden和cell** **states的值**\n",
        "\n",
        "\n",
        "*   由於model已經移入gpu，因此呼叫model的函數產生的值也會在gpu中，就會出現cuda device\n",
        "*   另外要建立tuple，每一個批次都要有自己的tuple，不是一個大tuple丟去就好了\n",
        "\n",
        "\n"
      ]
    },
    {
      "cell_type": "code",
      "metadata": {
        "id": "iDihGmJvsXSO",
        "colab_type": "code",
        "outputId": "2011b989-cbda-4e9b-9eca-9bb4938edd3d",
        "colab": {
          "base_uri": "https://localhost:8080/",
          "height": 289
        }
      },
      "source": [
        "hh = model.init_hidden(batch_size)\n",
        "hh = tuple([e.data for e in hh])\n",
        "print(hh[1].shape)\n",
        "print(hh[1])"
      ],
      "execution_count": 51,
      "outputs": [
        {
          "output_type": "stream",
          "text": [
            "torch.Size([2, 400, 512])\n",
            "tensor([[[0., 0., 0.,  ..., 0., 0., 0.],\n",
            "         [0., 0., 0.,  ..., 0., 0., 0.],\n",
            "         [0., 0., 0.,  ..., 0., 0., 0.],\n",
            "         ...,\n",
            "         [0., 0., 0.,  ..., 0., 0., 0.],\n",
            "         [0., 0., 0.,  ..., 0., 0., 0.],\n",
            "         [0., 0., 0.,  ..., 0., 0., 0.]],\n",
            "\n",
            "        [[0., 0., 0.,  ..., 0., 0., 0.],\n",
            "         [0., 0., 0.,  ..., 0., 0., 0.],\n",
            "         [0., 0., 0.,  ..., 0., 0., 0.],\n",
            "         ...,\n",
            "         [0., 0., 0.,  ..., 0., 0., 0.],\n",
            "         [0., 0., 0.,  ..., 0., 0., 0.],\n",
            "         [0., 0., 0.,  ..., 0., 0., 0.]]], device='cuda:0')\n"
          ],
          "name": "stdout"
        }
      ]
    },
    {
      "cell_type": "code",
      "metadata": {
        "id": "0es5bLkzsvfA",
        "colab_type": "code",
        "outputId": "332b085b-b8c1-4362-c9c6-47579a50fc44",
        "colab": {
          "base_uri": "https://localhost:8080/",
          "height": 153
        }
      },
      "source": [
        "inputs = next(iter(train_loader)) # 取一段training data出來\n",
        "x = inputs[0].to(device) #把資料移入gpu\n",
        "batch_num = x.size(0) #取得批次大小，256\n",
        "x = x.long() # 把輸入值轉成長整數\n",
        "print(x.shape) # 看看x的型狀長什麼樣子\n",
        "print(x) #印出一個x來看看"
      ],
      "execution_count": 52,
      "outputs": [
        {
          "output_type": "stream",
          "text": [
            "torch.Size([400, 200])\n",
            "tensor([[    0,     0,     0,  ..., 24402,    59,    45],\n",
            "        [    0,     0,     0,  ...,     8,   395,    15],\n",
            "        [    0,     0,     0,  ...,     3,   106,     2],\n",
            "        ...,\n",
            "        [ 1612,    59,    15,  ...,    13,   107,    11],\n",
            "        [    0,     0,     0,  ...,     8,   231,  1336],\n",
            "        [    0,     0,     0,  ...,  4751,   473,     2]], device='cuda:0')\n"
          ],
          "name": "stdout"
        }
      ]
    },
    {
      "cell_type": "code",
      "metadata": {
        "id": "cykg7JOusyLu",
        "colab_type": "code",
        "colab": {}
      },
      "source": [
        "embedding = nn.Embedding(vocab_size, embedding_dim) # 把x從one-hot的詞彙大小轉成word2vec的大小\n",
        "embedding = embedding.to(device) #將這個函數放入gpu"
      ],
      "execution_count": 0,
      "outputs": []
    },
    {
      "cell_type": "code",
      "metadata": {
        "id": "fNQtAWd3s1JF",
        "colab_type": "code",
        "outputId": "767337aa-32d9-4562-df3a-b6247164c4b1",
        "colab": {
          "base_uri": "https://localhost:8080/",
          "height": 34
        }
      },
      "source": [
        "embeds = embedding(x) # 將詞彙轉成wordvec\n",
        "embeds.shape #看看型狀\n"
      ],
      "execution_count": 54,
      "outputs": [
        {
          "output_type": "execute_result",
          "data": {
            "text/plain": [
              "torch.Size([400, 200, 400])"
            ]
          },
          "metadata": {
            "tags": []
          },
          "execution_count": 54
        }
      ]
    },
    {
      "cell_type": "code",
      "metadata": {
        "id": "9Wicq8ohs1Ut",
        "colab_type": "code",
        "colab": {}
      },
      "source": [
        "lstm = nn.LSTM(embedding_dim, hidden_dim, n_layers, dropout=0.5, batch_first=True) # 建立一個lstm\n",
        "lstm = lstm.to(device) #將lstm移入gpu\n",
        "lstm_out, hidden = lstm(embeds, hh) #讓剛才的資料跑過lstm，產生輸出值及新的hidden值"
      ],
      "execution_count": 0,
      "outputs": []
    },
    {
      "cell_type": "code",
      "metadata": {
        "id": "6Ipjfkbls1nN",
        "colab_type": "code",
        "outputId": "dec1ed4f-d15f-4e0b-fca6-78c7eaa2cf69",
        "colab": {
          "base_uri": "https://localhost:8080/",
          "height": 51
        }
      },
      "source": [
        "print(lstm_out.shape) #看看從lstm跑出來的東西型狀\n",
        "print(hidden[0].shape) # 看看hidden第一個值的形狀"
      ],
      "execution_count": 56,
      "outputs": [
        {
          "output_type": "stream",
          "text": [
            "torch.Size([400, 200, 512])\n",
            "torch.Size([2, 400, 512])\n"
          ],
          "name": "stdout"
        }
      ]
    },
    {
      "cell_type": "code",
      "metadata": {
        "id": "11D19Xsss84f",
        "colab_type": "code",
        "outputId": "2a0cb3f8-323e-46c3-b480-b7d62e530c00",
        "colab": {
          "base_uri": "https://localhost:8080/",
          "height": 34
        }
      },
      "source": [
        "lstm_out = lstm_out.contiguous().view(-1, hidden_dim) #把lstm的輸出值攤平\n",
        "lstm_out.shape #看看形狀"
      ],
      "execution_count": 57,
      "outputs": [
        {
          "output_type": "execute_result",
          "data": {
            "text/plain": [
              "torch.Size([80000, 512])"
            ]
          },
          "metadata": {
            "tags": []
          },
          "execution_count": 57
        }
      ]
    },
    {
      "cell_type": "code",
      "metadata": {
        "id": "3ySWW-Fxs9MF",
        "colab_type": "code",
        "colab": {}
      },
      "source": [
        "dropout = nn.Dropout(0.5) #設定dropout\n",
        "out = dropout(lstm_out) # 讓輸出值走一次dropout"
      ],
      "execution_count": 0,
      "outputs": []
    },
    {
      "cell_type": "code",
      "metadata": {
        "id": "LlF9MBretMEd",
        "colab_type": "code",
        "outputId": "3bd4ca93-5c01-452f-a8fe-9673ed4379f8",
        "colab": {
          "base_uri": "https://localhost:8080/",
          "height": 34
        }
      },
      "source": [
        "print(out.shape) # 查看輸出值的形狀"
      ],
      "execution_count": 59,
      "outputs": [
        {
          "output_type": "stream",
          "text": [
            "torch.Size([80000, 512])\n"
          ],
          "name": "stdout"
        }
      ]
    },
    {
      "cell_type": "code",
      "metadata": {
        "id": "7hWsCRuttMUU",
        "colab_type": "code",
        "colab": {}
      },
      "source": [
        "dropout = nn.Dropout(0.5) #設定dropout\n",
        "out = dropout(lstm_out) # 讓輸出值走一次dropout"
      ],
      "execution_count": 0,
      "outputs": []
    },
    {
      "cell_type": "code",
      "metadata": {
        "id": "BZtLUw4NtRuu",
        "colab_type": "code",
        "outputId": "0e2c215d-37a5-421b-b27a-1268e27b335f",
        "colab": {
          "base_uri": "https://localhost:8080/",
          "height": 34
        }
      },
      "source": [
        "print(out.shape) # 查看輸出值的形狀"
      ],
      "execution_count": 61,
      "outputs": [
        {
          "output_type": "stream",
          "text": [
            "torch.Size([80000, 512])\n"
          ],
          "name": "stdout"
        }
      ]
    },
    {
      "cell_type": "code",
      "metadata": {
        "id": "p2uBCig7tWYX",
        "colab_type": "code",
        "outputId": "6205db70-bb3b-41a1-e28a-9302d5a3fd24",
        "colab": {
          "base_uri": "https://localhost:8080/",
          "height": 34
        }
      },
      "source": [
        "fc = nn.Linear(hidden_dim, 1) #定義最後一層fc\n",
        "fc = fc.to(device) #移入gpu\n",
        "out = fc(out) #讓輸入出值走一次fc\n",
        "print(out.shape) # 看一下形狀"
      ],
      "execution_count": 62,
      "outputs": [
        {
          "output_type": "stream",
          "text": [
            "torch.Size([80000, 1])\n"
          ],
          "name": "stdout"
        }
      ]
    },
    {
      "cell_type": "code",
      "metadata": {
        "id": "iUbEKEGQutqr",
        "colab_type": "code",
        "colab": {}
      },
      "source": [
        "sigmoid = nn.Sigmoid() # 讓輸出值介於0和1之間\n",
        "sigmoid = sigmoid.to(device) #將sigmoid移入gpu"
      ],
      "execution_count": 0,
      "outputs": []
    },
    {
      "cell_type": "code",
      "metadata": {
        "id": "zerqT0Dyuvne",
        "colab_type": "code",
        "outputId": "54d06136-06f1-47dc-b4d1-242616e06412",
        "colab": {
          "base_uri": "https://localhost:8080/",
          "height": 34
        }
      },
      "source": [
        "\n",
        "out = sigmoid(out) #讓輸出值走一次sigmoid\n",
        "print(out.shape) #看看形狀"
      ],
      "execution_count": 64,
      "outputs": [
        {
          "output_type": "stream",
          "text": [
            "torch.Size([80000, 1])\n"
          ],
          "name": "stdout"
        }
      ]
    },
    {
      "cell_type": "code",
      "metadata": {
        "id": "CKxijLw2uvre",
        "colab_type": "code",
        "outputId": "284d09c8-a59c-4409-80c5-128a7740b788",
        "colab": {
          "base_uri": "https://localhost:8080/",
          "height": 34
        }
      },
      "source": [
        "\n",
        "out = out.view(batch_size, -1) #把輸出值還原成(批次大小，句子長度)\n",
        "print(out.shape) # 看形狀"
      ],
      "execution_count": 65,
      "outputs": [
        {
          "output_type": "stream",
          "text": [
            "torch.Size([400, 200])\n"
          ],
          "name": "stdout"
        }
      ]
    },
    {
      "cell_type": "code",
      "metadata": {
        "id": "cI0wWdONuvvx",
        "colab_type": "code",
        "outputId": "378f9038-774e-4236-c02a-72b60f38c6d7",
        "colab": {
          "base_uri": "https://localhost:8080/",
          "height": 34
        }
      },
      "source": [
        "out = out[:,-1] #取出最後結果值\n",
        "print(out.shape)# 看形狀"
      ],
      "execution_count": 66,
      "outputs": [
        {
          "output_type": "stream",
          "text": [
            "torch.Size([400])\n"
          ],
          "name": "stdout"
        }
      ]
    },
    {
      "cell_type": "code",
      "metadata": {
        "id": "UXLwnzvfu1E4",
        "colab_type": "code",
        "outputId": "2ac52a5b-6111-4e61-dcc0-258e9bc1f76d",
        "colab": {
          "base_uri": "https://localhost:8080/",
          "height": 799
        }
      },
      "source": [
        "print(out) # 看每批256個輸出值"
      ],
      "execution_count": 67,
      "outputs": [
        {
          "output_type": "stream",
          "text": [
            "tensor([0.4953, 0.4790, 0.5065, 0.5003, 0.5023, 0.4952, 0.4970, 0.5009, 0.4987,\n",
            "        0.5007, 0.5028, 0.4970, 0.5008, 0.5055, 0.5082, 0.4979, 0.4981, 0.4958,\n",
            "        0.4978, 0.4996, 0.5016, 0.4975, 0.5094, 0.5078, 0.4971, 0.4875, 0.4946,\n",
            "        0.4998, 0.5066, 0.5123, 0.5094, 0.4934, 0.5087, 0.4975, 0.5051, 0.5013,\n",
            "        0.4991, 0.4971, 0.4964, 0.5011, 0.4911, 0.4922, 0.5003, 0.5029, 0.4827,\n",
            "        0.4956, 0.5051, 0.4946, 0.5068, 0.4907, 0.4993, 0.5085, 0.5030, 0.5059,\n",
            "        0.4867, 0.4943, 0.5054, 0.5068, 0.4850, 0.4940, 0.4993, 0.4978, 0.4876,\n",
            "        0.5000, 0.4990, 0.4949, 0.4858, 0.4949, 0.4944, 0.5096, 0.5039, 0.5068,\n",
            "        0.5026, 0.4846, 0.4983, 0.5043, 0.4977, 0.4954, 0.4929, 0.5079, 0.5064,\n",
            "        0.5031, 0.4980, 0.4878, 0.4997, 0.4976, 0.5155, 0.4973, 0.5045, 0.4980,\n",
            "        0.5011, 0.4976, 0.4891, 0.4807, 0.4905, 0.4849, 0.5048, 0.5111, 0.5192,\n",
            "        0.5027, 0.5076, 0.4868, 0.4886, 0.4986, 0.4860, 0.5006, 0.5064, 0.5002,\n",
            "        0.4937, 0.4962, 0.5012, 0.5077, 0.4984, 0.4971, 0.5058, 0.5071, 0.5088,\n",
            "        0.5076, 0.4884, 0.4850, 0.4967, 0.5031, 0.5064, 0.4875, 0.5041, 0.4964,\n",
            "        0.5162, 0.4918, 0.4878, 0.5051, 0.4869, 0.4925, 0.4952, 0.5018, 0.4892,\n",
            "        0.4955, 0.5060, 0.4930, 0.5191, 0.4967, 0.5036, 0.5099, 0.5016, 0.4959,\n",
            "        0.4998, 0.5040, 0.4973, 0.4957, 0.4945, 0.5105, 0.4954, 0.4911, 0.4890,\n",
            "        0.4982, 0.4944, 0.5049, 0.5028, 0.5062, 0.4879, 0.5000, 0.5064, 0.5015,\n",
            "        0.4989, 0.4980, 0.4852, 0.4892, 0.5002, 0.4832, 0.4958, 0.4810, 0.4989,\n",
            "        0.4954, 0.5097, 0.5147, 0.5002, 0.4893, 0.5095, 0.5046, 0.5015, 0.5105,\n",
            "        0.4993, 0.4815, 0.5011, 0.5104, 0.5089, 0.4980, 0.5024, 0.4861, 0.5080,\n",
            "        0.5101, 0.5014, 0.5044, 0.4953, 0.4967, 0.4920, 0.5042, 0.4994, 0.5018,\n",
            "        0.4966, 0.4872, 0.5025, 0.5107, 0.5030, 0.5003, 0.4898, 0.5005, 0.4910,\n",
            "        0.5070, 0.4972, 0.4883, 0.4911, 0.5065, 0.4875, 0.5078, 0.4877, 0.5083,\n",
            "        0.4919, 0.5021, 0.5017, 0.5070, 0.4914, 0.5049, 0.4999, 0.4938, 0.5020,\n",
            "        0.5122, 0.4868, 0.4975, 0.5106, 0.5086, 0.4949, 0.4936, 0.5055, 0.4931,\n",
            "        0.4828, 0.5106, 0.5023, 0.5031, 0.4909, 0.5007, 0.5084, 0.4856, 0.4943,\n",
            "        0.5041, 0.5024, 0.4897, 0.4992, 0.4990, 0.5076, 0.5081, 0.4885, 0.5076,\n",
            "        0.4970, 0.5008, 0.5100, 0.4994, 0.4898, 0.4921, 0.5024, 0.5252, 0.5037,\n",
            "        0.4983, 0.4952, 0.5072, 0.5011, 0.4928, 0.5038, 0.4932, 0.5103, 0.4988,\n",
            "        0.5086, 0.5093, 0.4908, 0.5035, 0.5151, 0.5023, 0.5063, 0.4932, 0.4875,\n",
            "        0.5030, 0.4996, 0.5076, 0.4981, 0.5003, 0.5072, 0.4988, 0.5096, 0.4988,\n",
            "        0.4942, 0.4915, 0.4878, 0.4888, 0.5068, 0.4900, 0.5113, 0.5061, 0.4929,\n",
            "        0.5024, 0.4998, 0.4912, 0.5049, 0.4939, 0.4920, 0.4966, 0.4984, 0.5081,\n",
            "        0.4970, 0.4939, 0.4935, 0.5027, 0.4984, 0.4953, 0.5151, 0.4926, 0.4929,\n",
            "        0.4953, 0.5001, 0.5035, 0.5030, 0.4985, 0.5000, 0.4956, 0.5071, 0.4931,\n",
            "        0.4895, 0.5077, 0.4948, 0.4848, 0.4890, 0.4957, 0.5019, 0.5000, 0.5037,\n",
            "        0.5008, 0.5013, 0.4898, 0.4916, 0.5174, 0.5150, 0.4999, 0.5034, 0.4840,\n",
            "        0.5105, 0.5155, 0.4930, 0.4928, 0.4936, 0.5093, 0.4973, 0.5002, 0.5095,\n",
            "        0.5031, 0.5005, 0.5084, 0.5043, 0.5045, 0.5090, 0.5046, 0.4844, 0.4840,\n",
            "        0.4965, 0.5036, 0.4914, 0.4873, 0.4981, 0.5065, 0.5048, 0.4982, 0.4984,\n",
            "        0.4882, 0.4937, 0.4934, 0.4796, 0.4960, 0.4940, 0.4898, 0.5095, 0.5054,\n",
            "        0.5005, 0.5216, 0.4968, 0.5075, 0.4947, 0.4992, 0.4904, 0.5000, 0.5031,\n",
            "        0.4951, 0.5055, 0.5067, 0.5032, 0.4911, 0.4907, 0.4886, 0.4996, 0.5022,\n",
            "        0.4914, 0.5073, 0.4965, 0.5007], device='cuda:0',\n",
            "       grad_fn=<SelectBackward>)\n"
          ],
          "name": "stdout"
        }
      ]
    },
    {
      "cell_type": "markdown",
      "metadata": {
        "id": "Z1QdQNmfu6FW",
        "colab_type": "text"
      },
      "source": [
        "**接下來進行真正訓練**\n",
        "\n",
        "\n",
        "*   輪數為2\n",
        "*   計數值\n",
        "\n",
        "**每1000步就印出結果**\n",
        "\n",
        "*   一開始的loss值為無限大\n",
        "*   開始訓練\n",
        "*   走訓練流程\n",
        "*  每1000步就印出結果一次\n"
      ]
    },
    {
      "cell_type": "code",
      "metadata": {
        "id": "0jQeC6Bg3huo",
        "colab_type": "code",
        "outputId": "c4bc6be9-19c6-4904-89e7-20b212837a15",
        "colab": {
          "base_uri": "https://localhost:8080/",
          "height": 119
        }
      },
      "source": [
        "import numpy as np\n",
        "epochs = 2\n",
        "counter = 0\n",
        "print_every = 1000\n",
        "clip = 5\n",
        "valid_loss_min = np.Inf\n",
        "\n",
        "model.train()\n",
        "for i in range(epochs):\n",
        "    h = model.init_hidden(batch_size)\n",
        "    \n",
        "    for inputs, labels in train_loader:\n",
        "        counter += 1\n",
        "        h = tuple([e.data for e in h])\n",
        "        inputs, labels = inputs.to(device), labels.to(device)\n",
        "        model.zero_grad()\n",
        "        output, h = model(inputs, h)\n",
        "        loss = criterion(output.squeeze(), labels.float())\n",
        "        loss.backward()\n",
        "        nn.utils.clip_grad_norm_(model.parameters(), clip)\n",
        "        optimizer.step()\n",
        "        \n",
        "        if counter%print_every == 0:\n",
        "            val_h = model.init_hidden(batch_size)\n",
        "            val_losses = []\n",
        "            model.eval()\n",
        "            for inp, lab in val_loader:\n",
        "                val_h = tuple([each.data for each in val_h])\n",
        "                inp, lab = inp.to(device), lab.to(device)\n",
        "                out, val_h = model(inp, val_h)\n",
        "                val_loss = criterion(out.squeeze(), lab.float())\n",
        "                val_losses.append(val_loss.item())\n",
        "                \n",
        "            model.train()\n",
        "            print(\"Epoch: {}/{}...\".format(i+1, epochs),\n",
        "                  \"Step: {}...\".format(counter),\n",
        "                  \"Loss: {:.6f}...\".format(loss.item()),\n",
        "                  \"Val Loss: {:.6f}\".format(np.mean(val_losses)))\n",
        "            if np.mean(val_losses) <= valid_loss_min:\n",
        "                torch.save(model.state_dict(), './state_dict.pt')\n",
        "                print('Validation loss decreased ({:.6f} --> {:.6f}).  Saving model ...'.format(valid_loss_min,np.mean(val_losses)))\n",
        "                valid_loss_min = np.mean(val_losses)"
      ],
      "execution_count": 70,
      "outputs": [
        {
          "output_type": "stream",
          "text": [
            "Epoch: 1/2... Step: 1000... Loss: 0.177491... Val Loss: 0.186199\n",
            "Validation loss decreased (inf --> 0.186199).  Saving model ...\n",
            "Epoch: 1/2... Step: 2000... Loss: 0.126624... Val Loss: 0.179733\n",
            "Validation loss decreased (0.186199 --> 0.179733).  Saving model ...\n",
            "Epoch: 2/2... Step: 3000... Loss: 0.131897... Val Loss: 0.180777\n",
            "Epoch: 2/2... Step: 4000... Loss: 0.155560... Val Loss: 0.185744\n"
          ],
          "name": "stdout"
        }
      ]
    },
    {
      "cell_type": "markdown",
      "metadata": {
        "id": "7kTtn-dBH61W",
        "colab_type": "text"
      },
      "source": [
        "\n",
        "**進行模型結果預測**"
      ]
    },
    {
      "cell_type": "code",
      "metadata": {
        "id": "58igbe6tHt2Z",
        "colab_type": "code",
        "colab": {
          "base_uri": "https://localhost:8080/",
          "height": 51
        },
        "outputId": "a7ff9cb8-2e6b-45c5-d29c-2aacf45f4f5b"
      },
      "source": [
        "model.load_state_dict(torch.load('./state_dict.pt'))\n",
        "\n",
        "test_losses = []\n",
        "num_correct = 0\n",
        "h = model.init_hidden(batch_size)\n",
        "\n",
        "model.eval()\n",
        "for inputs, labels in test_loader:\n",
        "    h = tuple([each.data for each in h])\n",
        "    inputs, labels = inputs.to(device), labels.to(device)\n",
        "    output, h = model(inputs, h)\n",
        "    test_loss = criterion(output.squeeze(), labels.float())\n",
        "    test_losses.append(test_loss.item())\n",
        "    pred = torch.round(output.squeeze())  # Rounds the output to 0/1\n",
        "    correct_tensor = pred.eq(labels.float().view_as(pred))\n",
        "    correct = np.squeeze(correct_tensor.cpu().numpy())\n",
        "    num_correct += np.sum(correct)\n",
        "\n",
        "print(\"Test loss: {:.3f}\".format(np.mean(test_losses)))\n",
        "test_acc = num_correct/len(test_loader.dataset)\n",
        "print(\"Test accuracy: {:.3f}%\".format(test_acc*100))"
      ],
      "execution_count": 69,
      "outputs": [
        {
          "output_type": "stream",
          "text": [
            "Test loss: 0.167\n",
            "Test accuracy: 93.608%\n"
          ],
          "name": "stdout"
        }
      ]
    }
  ]
}