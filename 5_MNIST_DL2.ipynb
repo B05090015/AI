{
  "nbformat": 4,
  "nbformat_minor": 0,
  "metadata": {
    "colab": {
      "name": "5_MNIST_DL2.ipynb",
      "provenance": [],
      "collapsed_sections": []
    },
    "kernelspec": {
      "name": "python3",
      "display_name": "Python 3"
    },
    "accelerator": "GPU"
  },
  "cells": [
    {
      "cell_type": "code",
      "metadata": {
        "id": "rF9otlpVmU-8",
        "colab_type": "code",
        "outputId": "6fe67a35-e966-4db8-b655-9c52c9df5510",
        "colab": {
          "base_uri": "https://localhost:8080/",
          "height": 734
        }
      },
      "source": [
        "import keras\n",
        "from keras.datasets import mnist\n",
        "from keras.models import Sequential\n",
        "from keras.layers import Dense, Dropout, LeakyReLU, Conv2D\n",
        "from keras.optimizers import RMSprop\n",
        "from keras import backend as K\n",
        "from matplotlib.pyplot import imshow\n",
        "import numpy as np\n",
        "\n",
        "\n",
        "(x_train, y_train), (x_test, y_test) = mnist.load_data()\n",
        "#x_train訓練數據60000筆  每一筆圖像為784個元素\n",
        "#x_test 測試數據10000筆\n",
        "x_train = x_train.reshape(60000, 784)\n",
        "x_test = x_test.reshape(10000, 784)\n",
        "#資料型別轉換，轉換為32位元浮點數\n",
        "x_train = x_train.astype('float32')\n",
        "x_test = x_test.astype('float32')\n",
        "#圖像正規化\n",
        "x_train /= 255\n",
        "x_test /= 255\n",
        "print(x_train.shape[0], 'train samples')\n",
        "print(x_test.shape[0], 'test samples')\n",
        "num_classes = 10\n",
        "#轉換0或1的矩陣類型 並且做one_hot encoding\n",
        "y_train = keras.utils.to_categorical(y_train, num_classes)\n",
        "y_test = keras.utils.to_categorical(y_test, num_classes)\n",
        "#建置一個模型\n",
        "#Relu函數 input_shape指定輸入數據尺寸\n",
        "model = Sequential()\n",
        "model.add(Dense(20, activation=LeakyReLU(), input_shape=(784,)))\n",
        "model.add(Dense(20, activation=LeakyReLU()))\n",
        "model.add(Dense(10, activation='softmax'))\n",
        "model.summary()\n",
        "#模型編譯 loss 損失函數計算誤差  accuracy識別精度 計算正確性\n",
        "model.compile(loss='categorical_crossentropy',\n",
        "              optimizer=RMSprop(),\n",
        "              metrics=['accuracy'])\n",
        "#將x_train,y_train數據進行批次訓練 batch_size每一次訓練的樣本數 epochs週期為10\n",
        "history = model.fit(x_train, y_train,\n",
        "                    batch_size=128,\n",
        "                    epochs=10,\n",
        "                    verbose=1,\n",
        "                    validation_data=(x_test, y_test))\n",
        "#最後進行模型評估\n",
        "scores = model.evaluate(x_test, y_test)\n",
        "print(scores[1])"
      ],
      "execution_count": 4,
      "outputs": [
        {
          "output_type": "stream",
          "text": [
            "60000 train samples\n",
            "10000 test samples\n",
            "Model: \"sequential_4\"\n",
            "_________________________________________________________________\n",
            "Layer (type)                 Output Shape              Param #   \n",
            "=================================================================\n",
            "dense_10 (Dense)             (None, 20)                15700     \n",
            "_________________________________________________________________\n",
            "dense_11 (Dense)             (None, 20)                420       \n",
            "_________________________________________________________________\n",
            "dense_12 (Dense)             (None, 10)                210       \n",
            "=================================================================\n",
            "Total params: 16,330\n",
            "Trainable params: 16,330\n",
            "Non-trainable params: 0\n",
            "_________________________________________________________________\n"
          ],
          "name": "stdout"
        },
        {
          "output_type": "stream",
          "text": [
            "/usr/local/lib/python3.6/dist-packages/keras/activations.py:235: UserWarning: Do not pass a layer instance (such as LeakyReLU) as the activation argument of another layer. Instead, advanced activation layers should be used just like any other layer in a model.\n",
            "  identifier=identifier.__class__.__name__))\n"
          ],
          "name": "stderr"
        },
        {
          "output_type": "stream",
          "text": [
            "Train on 60000 samples, validate on 10000 samples\n",
            "Epoch 1/10\n",
            "60000/60000 [==============================] - 1s 24us/step - loss: 0.5067 - accuracy: 0.8617 - val_loss: 0.3021 - val_accuracy: 0.9108\n",
            "Epoch 2/10\n",
            "60000/60000 [==============================] - 1s 23us/step - loss: 0.2818 - accuracy: 0.9186 - val_loss: 0.2576 - val_accuracy: 0.9256\n",
            "Epoch 3/10\n",
            "60000/60000 [==============================] - 1s 23us/step - loss: 0.2496 - accuracy: 0.9276 - val_loss: 0.2335 - val_accuracy: 0.9318\n",
            "Epoch 4/10\n",
            "60000/60000 [==============================] - 1s 23us/step - loss: 0.2274 - accuracy: 0.9343 - val_loss: 0.2176 - val_accuracy: 0.9382\n",
            "Epoch 5/10\n",
            "60000/60000 [==============================] - 1s 23us/step - loss: 0.2105 - accuracy: 0.9392 - val_loss: 0.2154 - val_accuracy: 0.9362\n",
            "Epoch 6/10\n",
            "60000/60000 [==============================] - 1s 23us/step - loss: 0.1962 - accuracy: 0.9423 - val_loss: 0.1973 - val_accuracy: 0.9392\n",
            "Epoch 7/10\n",
            "60000/60000 [==============================] - 1s 23us/step - loss: 0.1850 - accuracy: 0.9457 - val_loss: 0.1859 - val_accuracy: 0.9443\n",
            "Epoch 8/10\n",
            "60000/60000 [==============================] - 1s 23us/step - loss: 0.1742 - accuracy: 0.9485 - val_loss: 0.1728 - val_accuracy: 0.9470\n",
            "Epoch 9/10\n",
            "60000/60000 [==============================] - 1s 23us/step - loss: 0.1643 - accuracy: 0.9515 - val_loss: 0.1737 - val_accuracy: 0.9467\n",
            "Epoch 10/10\n",
            "60000/60000 [==============================] - 1s 24us/step - loss: 0.1567 - accuracy: 0.9535 - val_loss: 0.1658 - val_accuracy: 0.9506\n",
            "10000/10000 [==============================] - 0s 50us/step\n",
            "0.9506000280380249\n"
          ],
          "name": "stdout"
        }
      ]
    }
  ]
}