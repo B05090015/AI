{
  "nbformat": 4,
  "nbformat_minor": 0,
  "metadata": {
    "colab": {
      "name": "3_Keras_Tutorial_2.ipynb.ipynb",
      "provenance": []
    },
    "kernelspec": {
      "name": "python3",
      "display_name": "Python 3"
    }
  },
  "cells": [
    {
      "cell_type": "code",
      "metadata": {
        "id": "1O4oVjU3x6MB",
        "colab_type": "code",
        "colab": {
          "base_uri": "https://localhost:8080/",
          "height": 748
        },
        "outputId": "7a3df229-03cd-46f4-84b5-92a8cdb4d71c"
      },
      "source": [
        "import keras\n",
        "from keras.models import Sequential\n",
        "from keras.layers import Dense, Dropout, Activation\n",
        "from keras.optimizers import SGD\n",
        "\n",
        "# Generate dummy data\n",
        "import numpy as np\n",
        "x_train = np.random.random((1000, 10))\n",
        "y_train = keras.utils.to_categorical(np.random.randint(10, size=(1000, 1)), num_classes=10)\n",
        "x_test = np.random.random((100, 10))\n",
        "y_test = keras.utils.to_categorical(np.random.randint(10, size=(100, 1)), num_classes=10)\n",
        "\n",
        "model = Sequential()\n",
        "model.add(Dense(64, activation='relu', input_dim=10))\n",
        "model.add(Dense(64, activation='relu'))\n",
        "model.add(Dense(10, activation='softmax'))\n",
        "sgd = SGD(lr=0.01, decay=1e-6, momentum=0.9, nesterov=True)\n",
        "model.compile(loss='categorical_crossentropy', optimizer=sgd, metrics=['accuracy'])\n",
        "\n",
        "model.fit(x_train, y_train, epochs=20, batch_size=128)\n",
        "score = model.evaluate(x_test, y_test, batch_size=128)\n",
        "print(score)"
      ],
      "execution_count": 1,
      "outputs": [
        {
          "output_type": "stream",
          "text": [
            "Using TensorFlow backend.\n"
          ],
          "name": "stderr"
        },
        {
          "output_type": "stream",
          "text": [
            "Epoch 1/20\n",
            "1000/1000 [==============================] - 0s 213us/step - loss: 2.3100 - accuracy: 0.1040\n",
            "Epoch 2/20\n",
            "1000/1000 [==============================] - 0s 15us/step - loss: 2.3070 - accuracy: 0.1010\n",
            "Epoch 3/20\n",
            "1000/1000 [==============================] - 0s 14us/step - loss: 2.3049 - accuracy: 0.0990\n",
            "Epoch 4/20\n",
            "1000/1000 [==============================] - 0s 14us/step - loss: 2.3026 - accuracy: 0.1030\n",
            "Epoch 5/20\n",
            "1000/1000 [==============================] - 0s 14us/step - loss: 2.3010 - accuracy: 0.1020\n",
            "Epoch 6/20\n",
            "1000/1000 [==============================] - 0s 14us/step - loss: 2.2998 - accuracy: 0.1040\n",
            "Epoch 7/20\n",
            "1000/1000 [==============================] - 0s 13us/step - loss: 2.2986 - accuracy: 0.1170\n",
            "Epoch 8/20\n",
            "1000/1000 [==============================] - 0s 14us/step - loss: 2.2978 - accuracy: 0.1190\n",
            "Epoch 9/20\n",
            "1000/1000 [==============================] - 0s 13us/step - loss: 2.2969 - accuracy: 0.1230\n",
            "Epoch 10/20\n",
            "1000/1000 [==============================] - 0s 14us/step - loss: 2.2964 - accuracy: 0.1230\n",
            "Epoch 11/20\n",
            "1000/1000 [==============================] - 0s 14us/step - loss: 2.2957 - accuracy: 0.1240\n",
            "Epoch 12/20\n",
            "1000/1000 [==============================] - 0s 13us/step - loss: 2.2950 - accuracy: 0.1250\n",
            "Epoch 13/20\n",
            "1000/1000 [==============================] - 0s 21us/step - loss: 2.2944 - accuracy: 0.1330\n",
            "Epoch 14/20\n",
            "1000/1000 [==============================] - 0s 16us/step - loss: 2.2939 - accuracy: 0.1310\n",
            "Epoch 15/20\n",
            "1000/1000 [==============================] - 0s 17us/step - loss: 2.2933 - accuracy: 0.1350\n",
            "Epoch 16/20\n",
            "1000/1000 [==============================] - 0s 16us/step - loss: 2.2927 - accuracy: 0.1310\n",
            "Epoch 17/20\n",
            "1000/1000 [==============================] - 0s 16us/step - loss: 2.2923 - accuracy: 0.1360\n",
            "Epoch 18/20\n",
            "1000/1000 [==============================] - 0s 15us/step - loss: 2.2919 - accuracy: 0.1270\n",
            "Epoch 19/20\n",
            "1000/1000 [==============================] - 0s 15us/step - loss: 2.2912 - accuracy: 0.1350\n",
            "Epoch 20/20\n",
            "1000/1000 [==============================] - 0s 15us/step - loss: 2.2906 - accuracy: 0.1360\n",
            "100/100 [==============================] - 0s 200us/step\n",
            "[2.319533348083496, 0.10999999940395355]\n"
          ],
          "name": "stdout"
        }
      ]
    }
  ]
}
